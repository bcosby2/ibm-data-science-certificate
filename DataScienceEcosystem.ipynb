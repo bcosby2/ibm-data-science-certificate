{
 "cells": [
  {
   "cell_type": "markdown",
   "id": "41c5c17f-0ca0-4a5b-ba2a-728d79982065",
   "metadata": {},
   "source": [
    "# Data Science Ecosystem"
   ]
  },
  {
   "cell_type": "markdown",
   "id": "1c3901fd-622d-4d35-a341-d61ab66fc92a",
   "metadata": {},
   "source": [
    "In this notebook, Data Science Tools and Ecosystem are summarized."
   ]
  },
  {
   "cell_type": "markdown",
   "id": "dd0f5399-c89e-436a-91a4-f3ae4178c006",
   "metadata": {},
   "source": [
    "**Objectives:**\n",
    "* List popular languages for Data Science\n",
    "* List popular libraries for Data Science\n",
    "* Execute arithmetic operations"
   ]
  },
  {
   "cell_type": "markdown",
   "id": "93968d9c-f3f5-414d-8219-8ec957a241f5",
   "metadata": {},
   "source": [
    "Some of the popular languages that Data Scientists use are:\n",
    "1. Python\n",
    "2. R\n",
    "3. SQL\n",
    "4. C++\n",
    "5. Scala"
   ]
  },
  {
   "cell_type": "markdown",
   "id": "0e171db4-91f3-462e-9c5b-2ea55ed8f56b",
   "metadata": {},
   "source": [
    "Some of the commonly used libraries used by Data Scientists are:\n",
    "1. Pandas (Python)\n",
    "2. Scikit-learn (Python)\n",
    "3. ggplot2 (R)\n",
    "4. Vegas (Scala)\n",
    "5. Matplotlib (Python)"
   ]
  },
  {
   "cell_type": "markdown",
   "id": "9778125e-01ad-470d-98b3-9a7e7f1315e6",
   "metadata": {},
   "source": [
    "| Data Science Tools |\n",
    "| ---|\n",
    "| RStudio |\n",
    "| Jupyter Lab |\n",
    "| PyCharm |"
   ]
  },
  {
   "cell_type": "markdown",
   "id": "d5676b81-f0da-4db4-882f-4f198458a7ab",
   "metadata": {},
   "source": [
    "### Below are a few examples of evaluating arithmetic expressions in Python."
   ]
  },
  {
   "cell_type": "code",
   "execution_count": 1,
   "id": "1ed40ddf-2963-4b5f-855d-7603193adf40",
   "metadata": {},
   "outputs": [
    {
     "data": {
      "text/plain": [
       "17"
      ]
     },
     "execution_count": 1,
     "metadata": {},
     "output_type": "execute_result"
    }
   ],
   "source": [
    "# This a simple arithmetic expression to mutiply then add integers\n",
    "(3*4)+5"
   ]
  },
  {
   "cell_type": "code",
   "execution_count": 2,
   "id": "43b42377-45f9-4791-8b34-ab306c815cd4",
   "metadata": {},
   "outputs": [
    {
     "data": {
      "text/plain": [
       "3.3333333333333335"
      ]
     },
     "execution_count": 2,
     "metadata": {},
     "output_type": "execute_result"
    }
   ],
   "source": [
    "# This will convert 200 minutes to hours by diving by 60\n",
    "200/60"
   ]
  },
  {
   "cell_type": "markdown",
   "id": "8b014919-49a6-458d-a1d3-e99dff9f21ba",
   "metadata": {},
   "source": [
    "## Author\n",
    "Brandon Cosby"
   ]
  }
 ],
 "metadata": {
  "kernelspec": {
   "display_name": "Python 3 (ipykernel)",
   "language": "python",
   "name": "python3"
  },
  "language_info": {
   "codemirror_mode": {
    "name": "ipython",
    "version": 3
   },
   "file_extension": ".py",
   "mimetype": "text/x-python",
   "name": "python",
   "nbconvert_exporter": "python",
   "pygments_lexer": "ipython3",
   "version": "3.12.9"
  }
 },
 "nbformat": 4,
 "nbformat_minor": 5
}
